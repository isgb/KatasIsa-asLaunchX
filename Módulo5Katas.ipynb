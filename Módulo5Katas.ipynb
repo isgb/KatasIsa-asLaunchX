{
 "cells": [
  {
   "cell_type": "markdown",
   "metadata": {},
   "source": [
    "# Ejercicio1 - Utilizar operadores aritméticos"
   ]
  },
  {
   "cell_type": "markdown",
   "metadata": {},
   "source": [
    "Comenzaremos usando dos distancias de planetas: Tierra (149.597.870 km) y Júpiter (778.547.200 km)."
   ]
  },
  {
   "cell_type": "code",
   "execution_count": null,
   "metadata": {},
   "outputs": [],
   "source": [
    "# Crear variables para almacenar las dos distancias\n",
    "# ¡Asegúrate de quitar las comas!\n",
    "\n",
    "planetEarth = 149597870\n",
    "planetJupyter = 778547200"
   ]
  },
  {
   "cell_type": "markdown",
   "metadata": {},
   "source": [
    "Con los valores obtenidos, es el momento de añadir el código para realizar la operación. Restarás el primer planeta del segundo para determinar la distancia en kilómetros. A continuación, puedes convertir la distancia del kilómetro en millas multiplicándola por 0.621."
   ]
  },
  {
   "cell_type": "code",
   "execution_count": 5,
   "metadata": {},
   "outputs": [
    {
     "name": "stdout",
     "output_type": "stream",
     "text": [
      "390577533.93 miles\n"
     ]
    }
   ],
   "source": [
    "# Calcular la distancia entre planetas\n",
    "\n",
    "planetEarth = 149597870 # distance in km\n",
    "planetJupyter = 778547200 # distance in km\n",
    "\n",
    "distancePlanetsKm = planetJupyter - planetEarth\n",
    "\n",
    "distancePlanetsMill = distancePlanetsKm * 0.621\n",
    "print(str(distancePlanetsMill) + \" miles\")"
   ]
  },
  {
   "cell_type": "markdown",
   "metadata": {},
   "source": [
    "# Ejercicio 2: convierte cadenas en números y usa valores absolutos"
   ]
  },
  {
   "cell_type": "markdown",
   "metadata": {},
   "source": [
    "Para crear nuestra aplicación, queremos leer la distancia del sol para dos planetas, y luego mostrar la distancia entre los planetas. Haremos esto usando input para leer los valores, int para convertir a entero y luego abs para convertir el resultado en su valor absoluto."
   ]
  },
  {
   "cell_type": "code",
   "execution_count": 7,
   "metadata": {},
   "outputs": [
    {
     "name": "stdout",
     "output_type": "stream",
     "text": [
      "\n",
      "Planeta Tierra (KM) : 454564665 km\n",
      "Planeta Jupiter (KM) : 46564215 km\n"
     ]
    }
   ],
   "source": [
    "# Almacenar las entradas del usuario\n",
    "\n",
    "planetEarth = input(\"Introduzca Distancia del Sol a la Tierra (KM): \")\n",
    "planetJupyter =  input(\"Introduzca Distancia del Sol a Jupiter (KM): \")\n",
    "\n",
    "print(f\"\"\"\n",
    "Planeta Tierra (KM) : {planetEarth} km\n",
    "Planeta Jupiter (KM) : {planetJupyter} km\"\"\")\n"
   ]
  },
  {
   "cell_type": "markdown",
   "metadata": {},
   "source": [
    "# Convertir a número\n",
    "Debido a que input devuelve valores de cadena, necesitamos convertirlos en números. Para nuestro ejemplo, usaremos int"
   ]
  },
  {
   "cell_type": "code",
   "execution_count": null,
   "metadata": {},
   "outputs": [],
   "source": [
    "# Convierte las cadenas de ambos planetas a números enteros\n",
    "planetEarth = input(\"Introduzca Distancia del Sol a la Tierra (KM): \")\n",
    "planetEarth = int(planetEarth)\n",
    "\n",
    "planetJupyter =  input(\"Introduzca Distancia del Sol a Jupiter (KM): \")\n",
    "planetJupyter = int(planetJupyter)"
   ]
  },
  {
   "cell_type": "markdown",
   "metadata": {},
   "source": [
    "# Realizar el cálculo y convertir a valor absoluto\n",
    "\n",
    "Con los valores almacenados como números, ahora puedes agregar el código para realizar el cálculo, restando el primer planeta del segundo. Debido a que el segundo planeta podría ser un número mayor, usarás abs para convertirlo a un valor absoluto. También agregarás el código para mostrar el resultado en millas multiplicando la distancia del kilómetro por 0.621"
   ]
  },
  {
   "cell_type": "code",
   "execution_count": 15,
   "metadata": {},
   "outputs": [
    {
     "name": "stdout",
     "output_type": "stream",
     "text": [
      "390609000.0 miles\n"
     ]
    }
   ],
   "source": [
    "# Almacenar las entradas del usuario\n",
    "\n",
    "namefirstPlanet = input(\"Introduzca el nombre del primer Planeta : \")\n",
    "namesecondPlanet =  input(\"Introduzca el nombre del segundo Planeta :\")\n",
    "\n",
    "firstPlanet = input(f\"Introduzca Distancia del Sol al planeta {namefirstPlanet} (KM): \")\n",
    "firstPlanet = int(firstPlanet)\n",
    "\n",
    "secondPlanet =  input(f\"Introduzca Distancia del Sol al planeta {namesecondPlanet} (KM): \")\n",
    "secondPlanet = int(secondPlanet)\n",
    "\n",
    "# Realizar el cálculo \n",
    "distancePlanetsKm = secondPlanet - firstPlanet\n",
    "\n",
    "# Convertir de KM a Millas y determinar el valor absoluto\n",
    "distancePlanetsMill = distancePlanetsKm * 0.621\n",
    "distancePlanetsMill = abs(distancePlanetsMill)\n",
    "print(str(distancePlanetsMill) + \" miles\")\n",
    "\n"
   ]
  }
 ],
 "metadata": {
  "interpreter": {
   "hash": "f0a3e0318c999fb2357d83848770ec68c82380410f21aae05d734bb2fee75eee"
  },
  "kernelspec": {
   "display_name": "Python 3.10.2 64-bit (windows store)",
   "language": "python",
   "name": "python3"
  },
  "language_info": {
   "codemirror_mode": {
    "name": "ipython",
    "version": 3
   },
   "file_extension": ".py",
   "mimetype": "text/x-python",
   "name": "python",
   "nbconvert_exporter": "python",
   "pygments_lexer": "ipython3",
   "version": "3.10.2"
  },
  "orig_nbformat": 4
 },
 "nbformat": 4,
 "nbformat_minor": 2
}
