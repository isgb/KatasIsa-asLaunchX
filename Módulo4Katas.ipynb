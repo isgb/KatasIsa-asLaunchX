{
 "cells": [
  {
   "cell_type": "markdown",
   "metadata": {},
   "source": [
    "# Ejercicio 1: Transformar cadenas"
   ]
  },
  {
   "cell_type": "markdown",
   "metadata": {},
   "source": [
    "El texto con el que trabajarás es el siguiente:"
   ]
  },
  {
   "cell_type": "markdown",
   "metadata": {},
   "source": [
    "text = \"\"\"Interesting facts about the Moon. The Moon is Earth's only satellite. There are several interesting facts about the Moon and how it affects life here on Earth. \n",
    "On average, the Moon moves 4cm away from the Earth every year. This yearly drift is not significant enough to cause immediate effects on Earth. The highest daylight temperature of the Moon is 127 C.\"\"\""
   ]
  },
  {
   "cell_type": "markdown",
   "metadata": {},
   "source": [
    "Primero, divide el texto en cada oración para trabajar con su contenido:"
   ]
  },
  {
   "cell_type": "code",
   "execution_count": 2,
   "metadata": {},
   "outputs": [
    {
     "name": "stdout",
     "output_type": "stream",
     "text": [
      "['Interesting facts about the Moon', \" The Moon is Earth's only satellite\", ' There are several interesting facts about the Moon and how it affects life here on Earth', ' \\nOn average, the Moon moves 4cm away from the Earth every year', ' This yearly drift is not significant enough to cause immediate effects on Earth', ' The highest daylight temperature of the Moon is 127 C', '']\n"
     ]
    }
   ],
   "source": [
    "text = \"\"\"Interesting facts about the Moon. The Moon is Earth's only satellite. There are several interesting facts about the Moon and how it affects life here on Earth. \n",
    "On average, the Moon moves 4cm away from the Earth every year. This yearly drift is not significant enough to cause immediate effects on Earth. The highest daylight temperature of the Moon is 127 C.\"\"\"\n",
    "\n",
    "dividedText = text.split(\".\")\n",
    "\n",
    "print(dividedText)"
   ]
  },
  {
   "cell_type": "markdown",
   "metadata": {},
   "source": [
    "Ahora, define algunas palabras clave para búsqueda que te ayudarán a determinar si una oración contiene un hecho."
   ]
  },
  {
   "cell_type": "code",
   "execution_count": 6,
   "metadata": {},
   "outputs": [
    {
     "name": "stdout",
     "output_type": "stream",
     "text": [
      "['average', 'temperature', 'distance']\n"
     ]
    }
   ],
   "source": [
    "text = \"\"\"Interesting facts about the Moon. The Moon is Earth's only satellite. There are several interesting facts about the Moon and how it affects life here on Earth. \n",
    "On average, the Moon moves 4cm away from the Earth every year. This yearly drift is not significant enough to cause immediate effects on Earth. The highest daylight temperature of the Moon is 127 C.\"\"\"\n",
    "\n",
    "# Define las palabras pista: average, temperature y distance suenan bien\n",
    "keywords = \"average,temperature,distance\".split(\",\")\n",
    "\n",
    "print(keywords)"
   ]
  },
  {
   "cell_type": "markdown",
   "metadata": {},
   "source": [
    "Crea un bucle para imprimir solo datos sobre la Luna que estén relacionados con las palabras clave definidas anteriormente:"
   ]
  },
  {
   "cell_type": "code",
   "execution_count": 35,
   "metadata": {},
   "outputs": [
    {
     "name": "stdout",
     "output_type": "stream",
     "text": [
      " \n",
      "On average, the Moon moves 4cm away from the Earth every year\n",
      " The highest daylight temperature of the Moon is 127 C\n"
     ]
    }
   ],
   "source": [
    "text = \"\"\"Interesting facts about the Moon. The Moon is Earth's only satellite. There are several interesting facts about the Moon and how it affects life here on Earth. \n",
    "On average, the Moon moves 4cm away from the Earth every year. This yearly drift is not significant enough to cause immediate effects on Earth. The highest daylight temperature of the Moon is 127 C.\"\"\"\n",
    "\n",
    "dividedText = text.split(\".\")\n",
    "\n",
    "# Define las palabras pista: average, temperature y distance suenan bien\n",
    "keywords = \"average,temperature,distance\".split(\",\")\n",
    "\n",
    "for sentence in dividedText:\n",
    "    if (sentence.lower().find(\"moon\") != -1):\n",
    "        for keyword in keywords:\n",
    "            if keyword in sentence:\n",
    "                print(sentence.strip())\n"
   ]
  },
  {
   "cell_type": "markdown",
   "metadata": {},
   "source": [
    "Finalmente, actualiza el bucle(ciclo) para cambiar C a Celsius:"
   ]
  },
  {
   "cell_type": "code",
   "execution_count": 36,
   "metadata": {},
   "outputs": [
    {
     "name": "stdout",
     "output_type": "stream",
     "text": [
      "On average, the Moon moves 4cm away from the Earth every year\n",
      "The highest daylight temperature of the Moon is 127 Celsius\n"
     ]
    }
   ],
   "source": [
    "text = \"\"\"Interesting facts about the Moon. The Moon is Earth's only satellite. There are several interesting facts about the Moon and how it affects life here on Earth. \n",
    "On average, the Moon moves 4cm away from the Earth every year. This yearly drift is not significant enough to cause immediate effects on Earth. The highest daylight temperature of the Moon is 127 C.\"\"\"\n",
    "\n",
    "dividedText = text.split(\".\")\n",
    "\n",
    "# Define las palabras pista: average, temperature y distance suenan bien\n",
    "keywords = \"average,temperature,distance\".split(\",\")\n",
    "\n",
    "# Mostrar con el bucle todas las oraciones relacionadas con la palabra Moon\n",
    "for sentence in dividedText:\n",
    "    if (sentence.lower().find(\"moon\") != -1):\n",
    "        for keyword in keywords:\n",
    "            if keyword in sentence:\n",
    "                print(sentence.strip().replace(' C', ' Celsius'))"
   ]
  },
  {
   "cell_type": "markdown",
   "metadata": {},
   "source": [
    "# Ejercicio 2: Formateando Cadenas"
   ]
  },
  {
   "cell_type": "markdown",
   "metadata": {},
   "source": [
    "Primero, crea un título para el texto. Debido a que este texto trata sobre la gravedad en la Tierra y la Luna, úsalo para crear un título significativo. Utiliza las variables en lugar de escribir."
   ]
  },
  {
   "cell_type": "code",
   "execution_count": 41,
   "metadata": {},
   "outputs": [
    {
     "name": "stdout",
     "output_type": "stream",
     "text": [
      "Information About The Gravity On The Earth\n"
     ]
    }
   ],
   "source": [
    "# Datos con los que vas a trabajar\n",
    "name = \"Moon\"\n",
    "gravity = 0.00162 # in kms\n",
    "planet = \"Earth\"\n",
    "\n",
    "# Creamos el título\n",
    "title = f'Gravity Facts about {planet}'.title()\n",
    "print(title)"
   ]
  },
  {
   "cell_type": "markdown",
   "metadata": {},
   "source": [
    "Ahora crea una plantilla de cadena multilínea para contener el resto de la información. En lugar de usar kilómetros, debes convertir la distancia a metros multiplicando por 1,000."
   ]
  },
  {
   "cell_type": "code",
   "execution_count": 55,
   "metadata": {},
   "outputs": [
    {
     "name": "stdout",
     "output_type": "stream",
     "text": [
      "\n",
      "Planet Name: 'Earth'\n",
      "Gravity on Ganymede: 1.6199999999999999 m/s2\n",
      "\n"
     ]
    }
   ],
   "source": [
    "# Datos con los que vas a trabajar\n",
    "name = \"Moon\"\n",
    "gravity = 0.00162 # in kms\n",
    "planet = \"Earth\"\n",
    "\n",
    "# Creamos el título\n",
    "title = f'Gravity Facts about {planet}'.title()\n",
    "\n",
    "# Gravedad de km a mts\n",
    "gravityToMeters = gravity * 1000\n",
    "\n",
    "# Plantilla\n",
    "template = f\"\"\"\n",
    "Planet Name: '{planet}'\n",
    "Gravity on Ganymede: {gravityToMeters} m/s2\n",
    "\"\"\"\n",
    "print(template)"
   ]
  },
  {
   "cell_type": "markdown",
   "metadata": {},
   "source": [
    "Finalmente, usa ambas variables para unir el título y los hechos."
   ]
  },
  {
   "cell_type": "code",
   "execution_count": 58,
   "metadata": {},
   "outputs": [
    {
     "name": "stdout",
     "output_type": "stream",
     "text": [
      "Gravity Facts About Earth\n",
      "--------------------------------------------------------------------------------\n",
      "Planet Name: 'Earth'\n",
      "Gravity on Ganymede: 1.6199999999999999 m/s2\n",
      "\n"
     ]
    }
   ],
   "source": [
    "# Datos con los que vas a trabajar\n",
    "name = \"Moon\"\n",
    "gravity = 0.00162 # in kms\n",
    "planet = \"Earth\"\n",
    "\n",
    "# Creamos el título\n",
    "title = f'Gravity Facts about {planet}'.title()\n",
    "\n",
    "# Gravedad de km a mts\n",
    "gravityToMeters = gravity * 1000\n",
    "\n",
    "# Plantilla\n",
    "template = f\"\"\"{title}\n",
    "{'-'*80}\n",
    "Planet Name: '{planet}'\n",
    "Gravity on {name}: {gravityToMeters} m/s2\n",
    "\"\"\"\n",
    "print(template)"
   ]
  },
  {
   "cell_type": "markdown",
   "metadata": {},
   "source": [
    "Ahora usa información de una luna diferente para ver si la plantilla todavía funciona.\n",
    "Datos muestra:\n",
    "\n",
    "planeta = 'Marte '\n",
    "gravedad  = 0.00143\n",
    "nombre = 'Ganímedes'"
   ]
  },
  {
   "cell_type": "code",
   "execution_count": 60,
   "metadata": {},
   "outputs": [
    {
     "name": "stdout",
     "output_type": "stream",
     "text": [
      "Gravity Facts About Marte\n",
      "--------------------------------------------------------------------------------\n",
      "Planet Name: 'Marte'\n",
      "Gravity on Ganímedes: 1.4300000000000002 m/s2\n",
      "\n"
     ]
    }
   ],
   "source": [
    "# Datos con los que vas a trabajar\n",
    "name = \"Ganímedes\"\n",
    "gravity = 0.00143 # in kms\n",
    "planet = \"Marte\"\n",
    "\n",
    "# Creamos el título\n",
    "title = f'Gravity Facts about {planet}'.title()\n",
    "\n",
    "# Gravedad de km a mts\n",
    "gravityToMeters = gravity * 1000\n",
    "\n",
    "# Plantilla\n",
    "template = f\"\"\"{title}\n",
    "{'-'*80}\n",
    "Planet Name: '{planet}'\n",
    "Gravity on {name}: {gravityToMeters} m/s2\n",
    "\"\"\"\n",
    "print(template)"
   ]
  },
  {
   "cell_type": "markdown",
   "metadata": {},
   "source": [
    "Creando nueva plantilla con format()"
   ]
  },
  {
   "cell_type": "code",
   "execution_count": 72,
   "metadata": {},
   "outputs": [
    {
     "name": "stdout",
     "output_type": "stream",
     "text": [
      "\n",
      "Gravity Facts About Marte\n",
      "-------------------------------------------------------------------------------\n",
      "Planet Name: 'Marte'\n",
      "Gravity on Ganímedes: 1.4300000000000002 m/s2\n",
      "\n"
     ]
    }
   ],
   "source": [
    "# Datos con los que vas a trabajar\n",
    "name = \"Ganímedes\"\n",
    "gravity = 0.00143 # in kms\n",
    "planet = \"Marte\"\n",
    "\n",
    "# Creamos el título\n",
    "title = f'Gravity Facts about {planet}'.title()\n",
    "\n",
    "# Gravedad de km a mts\n",
    "gravityToMeters = gravity * 1000\n",
    "\n",
    "# Nueva plantilla con format()\n",
    "newTemplate = \"\"\"\n",
    "{title}\n",
    "-------------------------------------------------------------------------------\n",
    "Planet Name: '{planet}'\n",
    "Gravity on {name}: {gravityToMeters} m/s2\n",
    "\"\"\"\n",
    "\n",
    "print(newTemplate.format(title=title,planet=planet,name=name,gravityToMeters=gravityToMeters))"
   ]
  }
 ],
 "metadata": {
  "interpreter": {
   "hash": "f0a3e0318c999fb2357d83848770ec68c82380410f21aae05d734bb2fee75eee"
  },
  "kernelspec": {
   "display_name": "Python 3.10.2 64-bit (windows store)",
   "language": "python",
   "name": "python3"
  },
  "language_info": {
   "codemirror_mode": {
    "name": "ipython",
    "version": 3
   },
   "file_extension": ".py",
   "mimetype": "text/x-python",
   "name": "python",
   "nbconvert_exporter": "python",
   "pygments_lexer": "ipython3",
   "version": "3.10.2"
  },
  "orig_nbformat": 4
 },
 "nbformat": 4,
 "nbformat_minor": 2
}
