{
 "cells": [
  {
   "cell_type": "markdown",
   "metadata": {},
   "source": [
    "# Ejercicio: Uso de funciones en Python\n",
    "\n",
    "Ejercicio 1: Trabajar con argumentos en funciones\n",
    "\n",
    "Comienza por crear una función que necesite tres lecturas de combustible y devuelva un informe:"
   ]
  },
  {
   "cell_type": "code",
   "execution_count": null,
   "metadata": {},
   "outputs": [],
   "source": [
    "# Función para leer 3 tanques de combustible y muestre el promedio\n",
    "def reportCombustible(oneTank, twoTank, threeTank):\n",
    "    average = (oneTank + twoTank + threeTank) / 3\n",
    "    return f\"\"\"\n",
    "    Report: \n",
    "    oneTank={oneTank} twoTank={twoTank} threeTank={threeTank}\n",
    "    -------------------------------------------------- \n",
    "    Average Tanks = {average}\n",
    "    \"\"\"\n"
   ]
  },
  {
   "cell_type": "markdown",
   "metadata": {},
   "source": [
    "Ahora que hemos definido la función de informes, vamos a comprobarlo. Para esta misión, los tanques no están llenos:"
   ]
  },
  {
   "cell_type": "code",
   "execution_count": 5,
   "metadata": {},
   "outputs": [
    {
     "name": "stdout",
     "output_type": "stream",
     "text": [
      "\n",
      "    Report: \n",
      "    oneTank=65 twoTank=100 threeTank=72\n",
      "    -------------------------------------------------- \n",
      "    Average Tanks = 79.0\n",
      "    \n"
     ]
    }
   ],
   "source": [
    "# Función para leer 3 tanques de combustible y muestre el promedio\n",
    "def reportCombustible(oneTank, twoTank, threeTank):\n",
    "    average = (oneTank + twoTank + threeTank) / 3\n",
    "    return f\"\"\"\n",
    "    Report: \n",
    "    oneTank={oneTank} twoTank={twoTank} threeTank={threeTank}\n",
    "    -------------------------------------------------- \n",
    "    Average Tanks = {average}\n",
    "    \"\"\"\n",
    "\n",
    "# Llamamos a la función que genera el reporte print(funcion(tanque1, tanque2, tanque3))\n",
    "print(reportCombustible(65, 100, 72))"
   ]
  },
  {
   "cell_type": "markdown",
   "metadata": {},
   "source": [
    "En lugar de simplemente crear el informe, la función también está calculando el promedio. Mejora la legibilidad extrayendo el cálculo promedio de la función en una nueva función para que el promedio se pueda hacer de forma independiente:"
   ]
  },
  {
   "cell_type": "code",
   "execution_count": 6,
   "metadata": {},
   "outputs": [
    {
     "name": "stdout",
     "output_type": "stream",
     "text": [
      "79.0\n"
     ]
    }
   ],
   "source": [
    "# Función promedio\n",
    "def averageTanks(values):\n",
    "   average = sum(values) / len(values)\n",
    "   return average\n",
    "\n",
    "print(averageTanks([65, 100, 72]))"
   ]
  },
  {
   "cell_type": "markdown",
   "metadata": {},
   "source": [
    "Debido a que el combustible que queda en los tanques es específico de cada tanque, actualiza la función para usar el nombre de cada tanque en el informe:"
   ]
  },
  {
   "cell_type": "code",
   "execution_count": 7,
   "metadata": {},
   "outputs": [
    {
     "name": "stdout",
     "output_type": "stream",
     "text": [
      "\n",
      "    Report: \n",
      "    oneTank=65 twoTank=100 threeTank=72\n",
      "    -------------------------------------------------- \n",
      "    Average Tanks = 79.0\n",
      "    \n"
     ]
    }
   ],
   "source": [
    "# Escribe tu nueva función\n",
    "def averageTanks(values):\n",
    "   average = sum(values) / len(values)\n",
    "   return average\n",
    "\n",
    "# Función para leer 3 tanques de combustible y muestre el promedio\n",
    "def reportCombustible(oneTank, twoTank, threeTank):\n",
    "    return f\"\"\"\n",
    "    Report: \n",
    "    oneTank={oneTank} twoTank={twoTank} threeTank={threeTank}\n",
    "    -------------------------------------------------- \n",
    "    Average Tanks = {averageTanks([oneTank, twoTank, threeTank])}\n",
    "    \"\"\"\n",
    "\n",
    "# Llamamos a la función que genera el reporte print(funcion(tanque1, tanque2, tanque3))\n",
    "print(reportCombustible(65, 100, 72))\n"
   ]
  },
  {
   "cell_type": "markdown",
   "metadata": {},
   "source": [
    "# Ejercicio 2: Trabajo con argumentos de palabra clave\n",
    "\n",
    "Ejercicio : Trabajar con argumentos de palabras clave en funciones\n",
    "\n",
    "En este ejercicio, construirás un informe de cohete que requiere varias piezas de información, como el tiempo hasta el destino, el combustible a la izquierda y el nombre del destino. Comienza por crear una función que creará un informe preciso de la misión:"
   ]
  },
  {
   "cell_type": "code",
   "execution_count": 8,
   "metadata": {},
   "outputs": [
    {
     "name": "stdout",
     "output_type": "stream",
     "text": [
      "\n",
      "    Destination: Planet Jupiter\n",
      "    Prelaunch time: 18 minutes\n",
      "    Flight time: 42 minutes\n",
      "    External Tank: 9630\n",
      "    Inner Tank: 100000\n",
      "    \n"
     ]
    }
   ],
   "source": [
    "# Función con un informe preciso de la misión. Considera hora de prelanzamiento, tiempo de vuelo, destino, tanque externo y tanque interno\n",
    "def reportMision(prelaunchtime, flighttime, destination, externtank, innertank):\n",
    "    return f\"\"\"\n",
    "    Destination: {destination}\n",
    "    Prelaunch time: {prelaunchtime} minutes\n",
    "    Flight time: {flighttime} minutes\n",
    "    External Tank: {externtank}\n",
    "    Inner Tank: {innertank}\n",
    "    \"\"\"\n",
    "\n",
    "print(reportMision(18, 42, \"Planet Jupiter\", 9630, 100000))"
   ]
  },
  {
   "cell_type": "markdown",
   "metadata": {},
   "source": [
    "La función es problemática porque no se puede adaptar para minutos adicionales o tanques adicionales de combustible. Hazlo más flexible permitiendo cualquier número de pasos basados en el tiempo y cualquier número de tanques. En lugar de usar *args y **kwargs, aprovecha el hecho de que puedes usar cualquier nombre que desees. Asegurate que la función sea más legible mediante el uso de nombres de variables que están asociados con las entradas, como *minutes y **fuel_reservoirs:"
   ]
  },
  {
   "cell_type": "code",
   "execution_count": 12,
   "metadata": {},
   "outputs": [
    {
     "name": "stdout",
     "output_type": "stream",
     "text": [
      "\n",
      "    Destination: Planet Jupiter\n",
      "    Total travel time: 60\n",
      "    External Tank: 9630\n",
      "    Inner Tank: 100000\n",
      "    \n"
     ]
    }
   ],
   "source": [
    "# Escribe tu nueva función de reporte considerando lo anterior\n",
    "def reportMision( destination, *minutes,**tanks): # externtank, innertank\n",
    "    return f\"\"\"\n",
    "    Destination: {destination}\n",
    "    Total travel time: {sum(minutes)}\n",
    "    External Tank: {tanks['externtank']}\n",
    "    Inner Tank: {tanks['innertank']}\n",
    "    \"\"\"\n",
    "\n",
    "print(reportMision( \"Planet Jupiter\", 18, 42, externtank=9630, innertank=100000))"
   ]
  },
  {
   "cell_type": "markdown",
   "metadata": {},
   "source": [
    "Debido a que el combustible que queda en los tanques es específico de cada tanque, actualiza la función para usar el nombre de cada tanque en el informe:"
   ]
  },
  {
   "cell_type": "code",
   "execution_count": 13,
   "metadata": {},
   "outputs": [
    {
     "name": "stdout",
     "output_type": "stream",
     "text": [
      "\n",
      "    Destination: Planet Jupiter\n",
      "    Total travel time: 60\n",
      "    Total Tanks: 109630\n",
      "    External Tank: 9630\n",
      "    Inner Tank: 100000\n",
      "    \n"
     ]
    }
   ],
   "source": [
    "# Escribe tu nueva función\n",
    "def reportMision( destination, *minutes,**tanks): # externtank, innertank\n",
    "    return f\"\"\"\n",
    "    Destination: {destination}\n",
    "    Total travel time: {sum(minutes)}\n",
    "    Total Tanks: {sum(tanks.values())}\n",
    "    External Tank: {tanks['externtank']}\n",
    "    Inner Tank: {tanks['innertank']}\n",
    "    \"\"\"\n",
    "\n",
    "print(reportMision( \"Planet Jupiter\", 18, 42, externtank=9630, innertank=100000))"
   ]
  }
 ],
 "metadata": {
  "interpreter": {
   "hash": "f0a3e0318c999fb2357d83848770ec68c82380410f21aae05d734bb2fee75eee"
  },
  "kernelspec": {
   "display_name": "Python 3.10.2 64-bit (windows store)",
   "language": "python",
   "name": "python3"
  },
  "language_info": {
   "codemirror_mode": {
    "name": "ipython",
    "version": 3
   },
   "file_extension": ".py",
   "mimetype": "text/x-python",
   "name": "python",
   "nbconvert_exporter": "python",
   "pygments_lexer": "ipython3",
   "version": "3.10.2"
  },
  "orig_nbformat": 4
 },
 "nbformat": 4,
 "nbformat_minor": 2
}
